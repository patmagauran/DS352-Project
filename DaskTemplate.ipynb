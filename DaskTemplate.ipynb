{
 "cells": [
  {
   "cell_type": "code",
   "execution_count": null,
   "id": "1f93854f-8697-4f70-9103-dbe01bb44d34",
   "metadata": {},
   "outputs": [],
   "source": [
    "import numpy as np\n",
    "import pandas as pd\n",
    "\n",
    "import dask.dataframe as dd\n",
    "import dask.array as da\n",
    "import dask.bag as db\n",
    "import psycopg2\n",
    "from dask.distributed import Client\n",
    "from dask_kubernetes.operator import KubeCluster\n",
    "cluster = KubeCluster(name='foo6', image='ghcr.io/patmagauran/mldocker-base:main' )\n",
    "#cluster = KubeCluster.from_name(name=\"foo\")\n",
    "#cluster.adapt(minimum=1, maximum=10)\n",
    "cluster.scale(1)\n",
    "# Scale up: connect to your own cluster with more resources\n",
    "# see http://dask.pydata.org/en/latest/setup.html\n",
    "client = Client(cluster)\n",
    "client"
   ]
  },
  {
   "cell_type": "code",
   "execution_count": null,
   "id": "ba40ce5a-a1bb-47c6-ab24-69d414fa3bb6",
   "metadata": {},
   "outputs": [],
   "source": []
  },
  {
   "cell_type": "code",
   "execution_count": null,
   "id": "33ead60c-ec26-4ecf-9440-b8b957e068ab",
   "metadata": {},
   "outputs": [],
   "source": [
    "from dask import config"
   ]
  },
  {
   "cell_type": "code",
   "execution_count": null,
   "id": "d1bd20e1-cbf1-4981-98ce-91db00b2ab80",
   "metadata": {},
   "outputs": [],
   "source": [
    "config.config"
   ]
  },
  {
   "cell_type": "code",
   "execution_count": null,
   "id": "f48dabc7-b3cd-4608-99ff-28cf342813ac",
   "metadata": {},
   "outputs": [],
   "source": [
    "config.get(\"kubernetes\")"
   ]
  },
  {
   "cell_type": "code",
   "execution_count": null,
   "id": "886e2e02-3c91-4dff-a77f-329b5e2dba0f",
   "metadata": {},
   "outputs": [],
   "source": [
    "config.config"
   ]
  },
  {
   "cell_type": "code",
   "execution_count": null,
   "id": "b0c24dba-74f8-4f03-9251-720691bcfa27",
   "metadata": {},
   "outputs": [],
   "source": [
    "cluster.close()\n",
    "client.close()"
   ]
  },
  {
   "cell_type": "code",
   "execution_count": null,
   "id": "13441d4a-d11c-496e-ad17-9d44245663de",
   "metadata": {},
   "outputs": [],
   "source": []
  }
 ],
 "metadata": {
  "kernelspec": {
   "display_name": "Python 3 (ipykernel)",
   "language": "python",
   "name": "python3"
  },
  "language_info": {
   "codemirror_mode": {
    "name": "ipython",
    "version": 3
   },
   "file_extension": ".py",
   "mimetype": "text/x-python",
   "name": "python",
   "nbconvert_exporter": "python",
   "pygments_lexer": "ipython3",
   "version": "3.10.6"
  }
 },
 "nbformat": 4,
 "nbformat_minor": 5
}
