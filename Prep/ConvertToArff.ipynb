{
 "cells": [
  {
   "cell_type": "code",
   "execution_count": 1,
   "id": "2bf03d80-58c4-42ce-b931-9cefc153c684",
   "metadata": {},
   "outputs": [],
   "source": [
    "import numpy as np\n",
    "import pandas as pd\n",
    "import arff\n",
    "\n",
    "import dask.dataframe as dd\n",
    "\n",
    "#df.to_csv(\"balanced-3.csv\", single_file=True)"
   ]
  },
  {
   "cell_type": "code",
   "execution_count": null,
   "id": "266b31d2-d5cf-4bfc-b504-5f0955ce7116",
   "metadata": {},
   "outputs": [],
   "source": []
  },
  {
   "cell_type": "code",
   "execution_count": null,
   "id": "d6c8ce2a-8e40-4a93-9548-1b41b25bd254",
   "metadata": {},
   "outputs": [],
   "source": []
  },
  {
   "cell_type": "code",
   "execution_count": null,
   "id": "6b9507ea-da6e-4373-a45c-e0c3fc11ca52",
   "metadata": {},
   "outputs": [],
   "source": []
  },
  {
   "cell_type": "code",
   "execution_count": 4,
   "id": "a173c3a5-d162-4efe-8740-15bbbb1038be",
   "metadata": {},
   "outputs": [],
   "source": [
    "def parqToArff(fName):\n",
    "#input = input.fillna(\"\")\n",
    "    df = dd.read_parquet(\"gcs://ds352-data/\" + fName)\n",
    "    input = df.compute()\n",
    "    attributes = []\n",
    "    for j in input:\n",
    "        if input[j].dtypes in ['Int64', 'Float64', 'int32', 'Int16', 'Int8', 'UInt64', 'UInt32', 'UInt16', 'UInt8', 'Float32', 'Int32']:\n",
    "            attributes.append((j, 'NUMERIC'))\n",
    "        elif input[j].dtypes in ['object']:\n",
    "            attributes.append((j, 'STRING'))\n",
    "        else:\n",
    "             attributes.append((j, input[j].unique().astype(str).tolist()))\n",
    "\n",
    "    arff_dic = {\n",
    "      'attributes': attributes,\n",
    "      'data': input.to_numpy(na_value=\"?\"),\n",
    "      'relation': 'myRel',\n",
    "      'description': ''\n",
    "    }\n",
    "    arff_dic\n",
    "\n",
    "    with open(fName + \".arff\", \"w\", encoding=\"utf8\") as f:\n",
    "        arff.dump(arff_dic, f)"
   ]
  },
  {
   "cell_type": "code",
   "execution_count": 5,
   "id": "681178fd-017e-46c6-9069-ec4c81bc9d0b",
   "metadata": {},
   "outputs": [],
   "source": [
    "parqToArff(\"classification-1\")\n",
    "parqToArff(\"clustering-1\")\n",
    "parqToArff(\"association-1\")\n",
    "parqToArff(\"regression-1\")"
   ]
  },
  {
   "cell_type": "code",
   "execution_count": null,
   "id": "3aefcb82-ef01-4d6d-b607-fd0570fc9228",
   "metadata": {},
   "outputs": [],
   "source": []
  }
 ],
 "metadata": {
  "kernelspec": {
   "display_name": "Python 3 (ipykernel)",
   "language": "python",
   "name": "python3"
  },
  "language_info": {
   "codemirror_mode": {
    "name": "ipython",
    "version": 3
   },
   "file_extension": ".py",
   "mimetype": "text/x-python",
   "name": "python",
   "nbconvert_exporter": "python",
   "pygments_lexer": "ipython3",
   "version": "3.10.6"
  }
 },
 "nbformat": 4,
 "nbformat_minor": 5
}
